{
  "cells": [
    {
      "cell_type": "code",
      "execution_count": 12,
      "metadata": {
        "id": "ak_3md59Kg-C"
      },
      "outputs": [],
      "source": [
        "import pandas as pd\n",
        "import matplotlib.pyplot as plt\n",
        "from sklearn import datasets  \n",
        "import numpy as np\n",
        "from sklearn.model_selection import train_test_split\n",
        "from sklearn.tree import  DecisionTreeClassifier\n",
        "from sklearn import tree\n",
        "from sklearn.metrics import classification_report\n",
        "from sklearn import preprocessing"
      ]
    },
    {
      "cell_type": "code",
      "execution_count": 13,
      "metadata": {
        "id": "GKhdXVMuM6e9"
      },
      "outputs": [],
      "source": [
        "iris=pd.read_csv('https://gist.githubusercontent.com/curran/a08a1080b88344b0c8a7/raw/0e7a9b0a5d22642a06d3d5b9bcbad9890c8ee534/iris.csv')"
      ]
    },
    {
      "cell_type": "code",
      "execution_count": 14,
      "metadata": {
        "colab": {
          "base_uri": "https://localhost:8080/",
          "height": 206
        },
        "id": "OsZ09OcBNB1H",
        "outputId": "a8dc41ea-e2f0-4cf5-bfc6-2c17cd94be55"
      },
      "outputs": [
        {
          "output_type": "execute_result",
          "data": {
            "text/plain": [
              "   sepal_length  sepal_width  petal_length  petal_width species\n",
              "0           5.1          3.5           1.4          0.2  setosa\n",
              "1           4.9          3.0           1.4          0.2  setosa\n",
              "2           4.7          3.2           1.3          0.2  setosa\n",
              "3           4.6          3.1           1.5          0.2  setosa\n",
              "4           5.0          3.6           1.4          0.2  setosa"
            ],
            "text/html": [
              "\n",
              "  <div id=\"df-39e87ce5-2e98-4b32-9644-3d05e7ca7954\">\n",
              "    <div class=\"colab-df-container\">\n",
              "      <div>\n",
              "<style scoped>\n",
              "    .dataframe tbody tr th:only-of-type {\n",
              "        vertical-align: middle;\n",
              "    }\n",
              "\n",
              "    .dataframe tbody tr th {\n",
              "        vertical-align: top;\n",
              "    }\n",
              "\n",
              "    .dataframe thead th {\n",
              "        text-align: right;\n",
              "    }\n",
              "</style>\n",
              "<table border=\"1\" class=\"dataframe\">\n",
              "  <thead>\n",
              "    <tr style=\"text-align: right;\">\n",
              "      <th></th>\n",
              "      <th>sepal_length</th>\n",
              "      <th>sepal_width</th>\n",
              "      <th>petal_length</th>\n",
              "      <th>petal_width</th>\n",
              "      <th>species</th>\n",
              "    </tr>\n",
              "  </thead>\n",
              "  <tbody>\n",
              "    <tr>\n",
              "      <th>0</th>\n",
              "      <td>5.1</td>\n",
              "      <td>3.5</td>\n",
              "      <td>1.4</td>\n",
              "      <td>0.2</td>\n",
              "      <td>setosa</td>\n",
              "    </tr>\n",
              "    <tr>\n",
              "      <th>1</th>\n",
              "      <td>4.9</td>\n",
              "      <td>3.0</td>\n",
              "      <td>1.4</td>\n",
              "      <td>0.2</td>\n",
              "      <td>setosa</td>\n",
              "    </tr>\n",
              "    <tr>\n",
              "      <th>2</th>\n",
              "      <td>4.7</td>\n",
              "      <td>3.2</td>\n",
              "      <td>1.3</td>\n",
              "      <td>0.2</td>\n",
              "      <td>setosa</td>\n",
              "    </tr>\n",
              "    <tr>\n",
              "      <th>3</th>\n",
              "      <td>4.6</td>\n",
              "      <td>3.1</td>\n",
              "      <td>1.5</td>\n",
              "      <td>0.2</td>\n",
              "      <td>setosa</td>\n",
              "    </tr>\n",
              "    <tr>\n",
              "      <th>4</th>\n",
              "      <td>5.0</td>\n",
              "      <td>3.6</td>\n",
              "      <td>1.4</td>\n",
              "      <td>0.2</td>\n",
              "      <td>setosa</td>\n",
              "    </tr>\n",
              "  </tbody>\n",
              "</table>\n",
              "</div>\n",
              "      <button class=\"colab-df-convert\" onclick=\"convertToInteractive('df-39e87ce5-2e98-4b32-9644-3d05e7ca7954')\"\n",
              "              title=\"Convert this dataframe to an interactive table.\"\n",
              "              style=\"display:none;\">\n",
              "        \n",
              "  <svg xmlns=\"http://www.w3.org/2000/svg\" height=\"24px\"viewBox=\"0 0 24 24\"\n",
              "       width=\"24px\">\n",
              "    <path d=\"M0 0h24v24H0V0z\" fill=\"none\"/>\n",
              "    <path d=\"M18.56 5.44l.94 2.06.94-2.06 2.06-.94-2.06-.94-.94-2.06-.94 2.06-2.06.94zm-11 1L8.5 8.5l.94-2.06 2.06-.94-2.06-.94L8.5 2.5l-.94 2.06-2.06.94zm10 10l.94 2.06.94-2.06 2.06-.94-2.06-.94-.94-2.06-.94 2.06-2.06.94z\"/><path d=\"M17.41 7.96l-1.37-1.37c-.4-.4-.92-.59-1.43-.59-.52 0-1.04.2-1.43.59L10.3 9.45l-7.72 7.72c-.78.78-.78 2.05 0 2.83L4 21.41c.39.39.9.59 1.41.59.51 0 1.02-.2 1.41-.59l7.78-7.78 2.81-2.81c.8-.78.8-2.07 0-2.86zM5.41 20L4 18.59l7.72-7.72 1.47 1.35L5.41 20z\"/>\n",
              "  </svg>\n",
              "      </button>\n",
              "      \n",
              "  <style>\n",
              "    .colab-df-container {\n",
              "      display:flex;\n",
              "      flex-wrap:wrap;\n",
              "      gap: 12px;\n",
              "    }\n",
              "\n",
              "    .colab-df-convert {\n",
              "      background-color: #E8F0FE;\n",
              "      border: none;\n",
              "      border-radius: 50%;\n",
              "      cursor: pointer;\n",
              "      display: none;\n",
              "      fill: #1967D2;\n",
              "      height: 32px;\n",
              "      padding: 0 0 0 0;\n",
              "      width: 32px;\n",
              "    }\n",
              "\n",
              "    .colab-df-convert:hover {\n",
              "      background-color: #E2EBFA;\n",
              "      box-shadow: 0px 1px 2px rgba(60, 64, 67, 0.3), 0px 1px 3px 1px rgba(60, 64, 67, 0.15);\n",
              "      fill: #174EA6;\n",
              "    }\n",
              "\n",
              "    [theme=dark] .colab-df-convert {\n",
              "      background-color: #3B4455;\n",
              "      fill: #D2E3FC;\n",
              "    }\n",
              "\n",
              "    [theme=dark] .colab-df-convert:hover {\n",
              "      background-color: #434B5C;\n",
              "      box-shadow: 0px 1px 3px 1px rgba(0, 0, 0, 0.15);\n",
              "      filter: drop-shadow(0px 1px 2px rgba(0, 0, 0, 0.3));\n",
              "      fill: #FFFFFF;\n",
              "    }\n",
              "  </style>\n",
              "\n",
              "      <script>\n",
              "        const buttonEl =\n",
              "          document.querySelector('#df-39e87ce5-2e98-4b32-9644-3d05e7ca7954 button.colab-df-convert');\n",
              "        buttonEl.style.display =\n",
              "          google.colab.kernel.accessAllowed ? 'block' : 'none';\n",
              "\n",
              "        async function convertToInteractive(key) {\n",
              "          const element = document.querySelector('#df-39e87ce5-2e98-4b32-9644-3d05e7ca7954');\n",
              "          const dataTable =\n",
              "            await google.colab.kernel.invokeFunction('convertToInteractive',\n",
              "                                                     [key], {});\n",
              "          if (!dataTable) return;\n",
              "\n",
              "          const docLinkHtml = 'Like what you see? Visit the ' +\n",
              "            '<a target=\"_blank\" href=https://colab.research.google.com/notebooks/data_table.ipynb>data table notebook</a>'\n",
              "            + ' to learn more about interactive tables.';\n",
              "          element.innerHTML = '';\n",
              "          dataTable['output_type'] = 'display_data';\n",
              "          await google.colab.output.renderOutput(dataTable, element);\n",
              "          const docLink = document.createElement('div');\n",
              "          docLink.innerHTML = docLinkHtml;\n",
              "          element.appendChild(docLink);\n",
              "        }\n",
              "      </script>\n",
              "    </div>\n",
              "  </div>\n",
              "  "
            ]
          },
          "metadata": {},
          "execution_count": 14
        }
      ],
      "source": [
        "iris.head(5)"
      ]
    },
    {
      "cell_type": "code",
      "execution_count": 15,
      "metadata": {
        "colab": {
          "base_uri": "https://localhost:8080/"
        },
        "id": "xcXF3PNuzWJA",
        "outputId": "07f312ed-7854-4cc6-d3a0-7bf1c13c5e29"
      },
      "outputs": [
        {
          "output_type": "execute_result",
          "data": {
            "text/plain": [
              "setosa        50\n",
              "versicolor    50\n",
              "virginica     50\n",
              "Name: species, dtype: int64"
            ]
          },
          "metadata": {},
          "execution_count": 15
        }
      ],
      "source": [
        "iris.species.value_counts()"
      ]
    },
    {
      "cell_type": "code",
      "execution_count": 16,
      "metadata": {
        "id": "XmWvkT5Bzqmv"
      },
      "outputs": [],
      "source": [
        "#gives label\n",
        "label_encoder=preprocessing.LabelEncoder()\n",
        "iris.species=label_encoder.fit_transform(iris.species)"
      ]
    },
    {
      "cell_type": "code",
      "execution_count": 17,
      "metadata": {
        "colab": {
          "base_uri": "https://localhost:8080/"
        },
        "id": "dJ0i16sm0N2d",
        "outputId": "c657e8af-9f61-46d6-f559-951c8cd3bf0c"
      },
      "outputs": [
        {
          "output_type": "execute_result",
          "data": {
            "text/plain": [
              "0    50\n",
              "1    50\n",
              "2    50\n",
              "Name: species, dtype: int64"
            ]
          },
          "metadata": {},
          "execution_count": 17
        }
      ],
      "source": [
        "iris.species.value_counts()"
      ]
    },
    {
      "cell_type": "code",
      "source": [
        "x=iris.iloc[:,0:4]\n",
        "y=iris['species']"
      ],
      "metadata": {
        "id": "KlBd9yHbZIjf"
      },
      "execution_count": 20,
      "outputs": []
    },
    {
      "cell_type": "code",
      "metadata": {
        "id": "EH7KbGLjk6nd"
      },
      "source": [
        "#TRAINING AND TESTING THE DATASET\n",
        "x_train, x_test, y_train, y_test = train_test_split(x, y, test_size=0.2, random_state=40)"
      ],
      "execution_count": 21,
      "outputs": []
    },
    {
      "cell_type": "code",
      "metadata": {
        "id": "m1hxPSYFsX3u",
        "colab": {
          "base_uri": "https://localhost:8080/",
          "height": 424
        },
        "outputId": "bf953a5d-39af-4a2f-cf63-623af19689b5"
      },
      "source": [
        "x_train"
      ],
      "execution_count": 22,
      "outputs": [
        {
          "output_type": "execute_result",
          "data": {
            "text/plain": [
              "    sepal_length  sepal_width  petal_length  petal_width\n",
              "62           6.0          2.2           4.0          1.0\n",
              "23           5.1          3.3           1.7          0.5\n",
              "26           5.0          3.4           1.6          0.4\n",
              "48           5.3          3.7           1.5          0.2\n",
              "2            4.7          3.2           1.3          0.2\n",
              "..           ...          ...           ...          ...\n",
              "71           6.1          2.8           4.0          1.3\n",
              "12           4.8          3.0           1.4          0.1\n",
              "50           7.0          3.2           4.7          1.4\n",
              "7            5.0          3.4           1.5          0.2\n",
              "70           5.9          3.2           4.8          1.8\n",
              "\n",
              "[120 rows x 4 columns]"
            ],
            "text/html": [
              "\n",
              "  <div id=\"df-e62b9f32-432c-4de1-8a11-44a69d9b734d\">\n",
              "    <div class=\"colab-df-container\">\n",
              "      <div>\n",
              "<style scoped>\n",
              "    .dataframe tbody tr th:only-of-type {\n",
              "        vertical-align: middle;\n",
              "    }\n",
              "\n",
              "    .dataframe tbody tr th {\n",
              "        vertical-align: top;\n",
              "    }\n",
              "\n",
              "    .dataframe thead th {\n",
              "        text-align: right;\n",
              "    }\n",
              "</style>\n",
              "<table border=\"1\" class=\"dataframe\">\n",
              "  <thead>\n",
              "    <tr style=\"text-align: right;\">\n",
              "      <th></th>\n",
              "      <th>sepal_length</th>\n",
              "      <th>sepal_width</th>\n",
              "      <th>petal_length</th>\n",
              "      <th>petal_width</th>\n",
              "    </tr>\n",
              "  </thead>\n",
              "  <tbody>\n",
              "    <tr>\n",
              "      <th>62</th>\n",
              "      <td>6.0</td>\n",
              "      <td>2.2</td>\n",
              "      <td>4.0</td>\n",
              "      <td>1.0</td>\n",
              "    </tr>\n",
              "    <tr>\n",
              "      <th>23</th>\n",
              "      <td>5.1</td>\n",
              "      <td>3.3</td>\n",
              "      <td>1.7</td>\n",
              "      <td>0.5</td>\n",
              "    </tr>\n",
              "    <tr>\n",
              "      <th>26</th>\n",
              "      <td>5.0</td>\n",
              "      <td>3.4</td>\n",
              "      <td>1.6</td>\n",
              "      <td>0.4</td>\n",
              "    </tr>\n",
              "    <tr>\n",
              "      <th>48</th>\n",
              "      <td>5.3</td>\n",
              "      <td>3.7</td>\n",
              "      <td>1.5</td>\n",
              "      <td>0.2</td>\n",
              "    </tr>\n",
              "    <tr>\n",
              "      <th>2</th>\n",
              "      <td>4.7</td>\n",
              "      <td>3.2</td>\n",
              "      <td>1.3</td>\n",
              "      <td>0.2</td>\n",
              "    </tr>\n",
              "    <tr>\n",
              "      <th>...</th>\n",
              "      <td>...</td>\n",
              "      <td>...</td>\n",
              "      <td>...</td>\n",
              "      <td>...</td>\n",
              "    </tr>\n",
              "    <tr>\n",
              "      <th>71</th>\n",
              "      <td>6.1</td>\n",
              "      <td>2.8</td>\n",
              "      <td>4.0</td>\n",
              "      <td>1.3</td>\n",
              "    </tr>\n",
              "    <tr>\n",
              "      <th>12</th>\n",
              "      <td>4.8</td>\n",
              "      <td>3.0</td>\n",
              "      <td>1.4</td>\n",
              "      <td>0.1</td>\n",
              "    </tr>\n",
              "    <tr>\n",
              "      <th>50</th>\n",
              "      <td>7.0</td>\n",
              "      <td>3.2</td>\n",
              "      <td>4.7</td>\n",
              "      <td>1.4</td>\n",
              "    </tr>\n",
              "    <tr>\n",
              "      <th>7</th>\n",
              "      <td>5.0</td>\n",
              "      <td>3.4</td>\n",
              "      <td>1.5</td>\n",
              "      <td>0.2</td>\n",
              "    </tr>\n",
              "    <tr>\n",
              "      <th>70</th>\n",
              "      <td>5.9</td>\n",
              "      <td>3.2</td>\n",
              "      <td>4.8</td>\n",
              "      <td>1.8</td>\n",
              "    </tr>\n",
              "  </tbody>\n",
              "</table>\n",
              "<p>120 rows × 4 columns</p>\n",
              "</div>\n",
              "      <button class=\"colab-df-convert\" onclick=\"convertToInteractive('df-e62b9f32-432c-4de1-8a11-44a69d9b734d')\"\n",
              "              title=\"Convert this dataframe to an interactive table.\"\n",
              "              style=\"display:none;\">\n",
              "        \n",
              "  <svg xmlns=\"http://www.w3.org/2000/svg\" height=\"24px\"viewBox=\"0 0 24 24\"\n",
              "       width=\"24px\">\n",
              "    <path d=\"M0 0h24v24H0V0z\" fill=\"none\"/>\n",
              "    <path d=\"M18.56 5.44l.94 2.06.94-2.06 2.06-.94-2.06-.94-.94-2.06-.94 2.06-2.06.94zm-11 1L8.5 8.5l.94-2.06 2.06-.94-2.06-.94L8.5 2.5l-.94 2.06-2.06.94zm10 10l.94 2.06.94-2.06 2.06-.94-2.06-.94-.94-2.06-.94 2.06-2.06.94z\"/><path d=\"M17.41 7.96l-1.37-1.37c-.4-.4-.92-.59-1.43-.59-.52 0-1.04.2-1.43.59L10.3 9.45l-7.72 7.72c-.78.78-.78 2.05 0 2.83L4 21.41c.39.39.9.59 1.41.59.51 0 1.02-.2 1.41-.59l7.78-7.78 2.81-2.81c.8-.78.8-2.07 0-2.86zM5.41 20L4 18.59l7.72-7.72 1.47 1.35L5.41 20z\"/>\n",
              "  </svg>\n",
              "      </button>\n",
              "      \n",
              "  <style>\n",
              "    .colab-df-container {\n",
              "      display:flex;\n",
              "      flex-wrap:wrap;\n",
              "      gap: 12px;\n",
              "    }\n",
              "\n",
              "    .colab-df-convert {\n",
              "      background-color: #E8F0FE;\n",
              "      border: none;\n",
              "      border-radius: 50%;\n",
              "      cursor: pointer;\n",
              "      display: none;\n",
              "      fill: #1967D2;\n",
              "      height: 32px;\n",
              "      padding: 0 0 0 0;\n",
              "      width: 32px;\n",
              "    }\n",
              "\n",
              "    .colab-df-convert:hover {\n",
              "      background-color: #E2EBFA;\n",
              "      box-shadow: 0px 1px 2px rgba(60, 64, 67, 0.3), 0px 1px 3px 1px rgba(60, 64, 67, 0.15);\n",
              "      fill: #174EA6;\n",
              "    }\n",
              "\n",
              "    [theme=dark] .colab-df-convert {\n",
              "      background-color: #3B4455;\n",
              "      fill: #D2E3FC;\n",
              "    }\n",
              "\n",
              "    [theme=dark] .colab-df-convert:hover {\n",
              "      background-color: #434B5C;\n",
              "      box-shadow: 0px 1px 3px 1px rgba(0, 0, 0, 0.15);\n",
              "      filter: drop-shadow(0px 1px 2px rgba(0, 0, 0, 0.3));\n",
              "      fill: #FFFFFF;\n",
              "    }\n",
              "  </style>\n",
              "\n",
              "      <script>\n",
              "        const buttonEl =\n",
              "          document.querySelector('#df-e62b9f32-432c-4de1-8a11-44a69d9b734d button.colab-df-convert');\n",
              "        buttonEl.style.display =\n",
              "          google.colab.kernel.accessAllowed ? 'block' : 'none';\n",
              "\n",
              "        async function convertToInteractive(key) {\n",
              "          const element = document.querySelector('#df-e62b9f32-432c-4de1-8a11-44a69d9b734d');\n",
              "          const dataTable =\n",
              "            await google.colab.kernel.invokeFunction('convertToInteractive',\n",
              "                                                     [key], {});\n",
              "          if (!dataTable) return;\n",
              "\n",
              "          const docLinkHtml = 'Like what you see? Visit the ' +\n",
              "            '<a target=\"_blank\" href=https://colab.research.google.com/notebooks/data_table.ipynb>data table notebook</a>'\n",
              "            + ' to learn more about interactive tables.';\n",
              "          element.innerHTML = '';\n",
              "          dataTable['output_type'] = 'display_data';\n",
              "          await google.colab.output.renderOutput(dataTable, element);\n",
              "          const docLink = document.createElement('div');\n",
              "          docLink.innerHTML = docLinkHtml;\n",
              "          element.appendChild(docLink);\n",
              "        }\n",
              "      </script>\n",
              "    </div>\n",
              "  </div>\n",
              "  "
            ]
          },
          "metadata": {},
          "execution_count": 22
        }
      ]
    },
    {
      "cell_type": "code",
      "metadata": {
        "id": "u3N8FC5vsOKF",
        "colab": {
          "base_uri": "https://localhost:8080/"
        },
        "outputId": "cff3e107-1dcd-4c5b-f36f-e2051f6a033f"
      },
      "source": [
        "y_train"
      ],
      "execution_count": 24,
      "outputs": [
        {
          "output_type": "execute_result",
          "data": {
            "text/plain": [
              "62    1\n",
              "23    0\n",
              "26    0\n",
              "48    0\n",
              "2     0\n",
              "     ..\n",
              "71    1\n",
              "12    0\n",
              "50    1\n",
              "7     0\n",
              "70    1\n",
              "Name: species, Length: 120, dtype: int64"
            ]
          },
          "metadata": {},
          "execution_count": 24
        }
      ]
    },
    {
      "cell_type": "markdown",
      "source": [
        "***DECISION TREE CLASSIFIER***"
      ],
      "metadata": {
        "id": "C5c1a49hH7Yx"
      }
    },
    {
      "cell_type": "code",
      "metadata": {
        "id": "RK_jPF80k6nd",
        "colab": {
          "base_uri": "https://localhost:8080/"
        },
        "outputId": "801b791e-71f2-4596-f1db-4cff0535eed4"
      },
      "source": [
        "model = DecisionTreeClassifier(criterion = 'entropy', max_depth=3)\n",
        "model.fit(x_train,y_train)"
      ],
      "execution_count": 25,
      "outputs": [
        {
          "output_type": "execute_result",
          "data": {
            "text/plain": [
              "DecisionTreeClassifier(criterion='entropy', max_depth=3)"
            ]
          },
          "metadata": {},
          "execution_count": 25
        }
      ]
    },
    {
      "cell_type": "code",
      "metadata": {
        "id": "w0noIrhtk6nd",
        "colab": {
          "base_uri": "https://localhost:8080/",
          "height": 248
        },
        "outputId": "e3d9be04-8138-4890-c499-c7b587bb708a"
      },
      "source": [
        "tree.plot_tree(model);"
      ],
      "execution_count": 26,
      "outputs": [
        {
          "output_type": "display_data",
          "data": {
            "text/plain": [
              "<Figure size 432x288 with 1 Axes>"
            ],
            "image/png": "[encoded data removed]"
          },
          "metadata": {
            "needs_background": "light"
          }
        }
      ]
    },
    {
      "cell_type": "code",
      "metadata": {
        "id": "Cyym54HKvZBd",
        "colab": {
          "base_uri": "https://localhost:8080/"
        },
        "outputId": "29d41994-977a-4454-b147-1df7c62b0d1b"
      },
      "source": [
        "y_train.value_counts().keys()"
      ],
      "execution_count": 27,
      "outputs": [
        {
          "output_type": "execute_result",
          "data": {
            "text/plain": [
              "Int64Index([0, 2, 1], dtype='int64')"
            ]
          },
          "metadata": {},
          "execution_count": 27
        }
      ]
    },
    {
      "cell_type": "code",
      "metadata": {
        "id": "KOwzC6nQk6ne",
        "colab": {
          "base_uri": "https://localhost:8080/",
          "height": 983
        },
        "outputId": "edd44b90-f9a8-4070-d9c8-84de590c76a1"
      },
      "source": [
        "fn=iris.columns\n",
        "cn=['setosa', 'versicolor', 'virginica']   \n",
        "fig, axes = plt.subplots(nrows = 1,ncols = 1,figsize = (4,4), dpi=300)\n",
        "tree.plot_tree(model,\n",
        "               feature_names = fn, \n",
        "               class_names=cn,\n",
        "               filled = True);"
      ],
      "execution_count": 28,
      "outputs": [
        {
          "output_type": "display_data",
          "data": {
            "text/plain": [
              "<Figure size 1200x1200 with 1 Axes>"
            ],
            "image/png": "[encoded data removed]"
          },
          "metadata": {
            "needs_background": "light"
          }
        }
      ]
    },
    {
      "cell_type": "code",
      "metadata": {
        "id": "jeJBLmTIk6ne",
        "colab": {
          "base_uri": "https://localhost:8080/"
        },
        "outputId": "76f1d603-3853-4d3c-d547-7cacdda640c7"
      },
      "source": [
        "\n",
        "preds = model.predict(x_test) \n",
        "pd.Series(preds).value_counts() "
      ],
      "execution_count": 29,
      "outputs": [
        {
          "output_type": "execute_result",
          "data": {
            "text/plain": [
              "1    13\n",
              "2     9\n",
              "0     8\n",
              "dtype: int64"
            ]
          },
          "metadata": {},
          "execution_count": 29
        }
      ]
    },
    {
      "cell_type": "code",
      "metadata": {
        "id": "1pXD2HjBk6ne",
        "outputId": "279afc2b-1037-4460-a5af-1b918d3c4c56",
        "colab": {
          "base_uri": "https://localhost:8080/"
        }
      },
      "source": [
        "preds"
      ],
      "execution_count": 30,
      "outputs": [
        {
          "output_type": "execute_result",
          "data": {
            "text/plain": [
              "array([0, 1, 2, 2, 1, 2, 1, 1, 1, 0, 1, 0, 0, 1, 1, 2, 2, 2, 1, 1, 2, 2,\n",
              "       1, 0, 1, 0, 0, 2, 0, 1])"
            ]
          },
          "metadata": {},
          "execution_count": 30
        }
      ]
    },
    {
      "cell_type": "code",
      "metadata": {
        "id": "jVazc0nCk6nf",
        "colab": {
          "base_uri": "https://localhost:8080/",
          "height": 175
        },
        "outputId": "a636c5dd-76e1-4b68-e231-385423ab36a9"
      },
      "source": [
        "pd.crosstab(y_test,preds) "
      ],
      "execution_count": 31,
      "outputs": [
        {
          "output_type": "execute_result",
          "data": {
            "text/plain": [
              "col_0    0   1  2\n",
              "species          \n",
              "0        8   0  0\n",
              "1        0  12  0\n",
              "2        0   1  9"
            ],
            "text/html": [
              "\n",
              "  <div id=\"df-e388de02-acfe-46f4-a9e9-fb01d28758d0\">\n",
              "    <div class=\"colab-df-container\">\n",
              "      <div>\n",
              "<style scoped>\n",
              "    .dataframe tbody tr th:only-of-type {\n",
              "        vertical-align: middle;\n",
              "    }\n",
              "\n",
              "    .dataframe tbody tr th {\n",
              "        vertical-align: top;\n",
              "    }\n",
              "\n",
              "    .dataframe thead th {\n",
              "        text-align: right;\n",
              "    }\n",
              "</style>\n",
              "<table border=\"1\" class=\"dataframe\">\n",
              "  <thead>\n",
              "    <tr style=\"text-align: right;\">\n",
              "      <th>col_0</th>\n",
              "      <th>0</th>\n",
              "      <th>1</th>\n",
              "      <th>2</th>\n",
              "    </tr>\n",
              "    <tr>\n",
              "      <th>species</th>\n",
              "      <th></th>\n",
              "      <th></th>\n",
              "      <th></th>\n",
              "    </tr>\n",
              "  </thead>\n",
              "  <tbody>\n",
              "    <tr>\n",
              "      <th>0</th>\n",
              "      <td>8</td>\n",
              "      <td>0</td>\n",
              "      <td>0</td>\n",
              "    </tr>\n",
              "    <tr>\n",
              "      <th>1</th>\n",
              "      <td>0</td>\n",
              "      <td>12</td>\n",
              "      <td>0</td>\n",
              "    </tr>\n",
              "    <tr>\n",
              "      <th>2</th>\n",
              "      <td>0</td>\n",
              "      <td>1</td>\n",
              "      <td>9</td>\n",
              "    </tr>\n",
              "  </tbody>\n",
              "</table>\n",
              "</div>\n",
              "      <button class=\"colab-df-convert\" onclick=\"convertToInteractive('df-e388de02-acfe-46f4-a9e9-fb01d28758d0')\"\n",
              "              title=\"Convert this dataframe to an interactive table.\"\n",
              "              style=\"display:none;\">\n",
              "        \n",
              "  <svg xmlns=\"http://www.w3.org/2000/svg\" height=\"24px\"viewBox=\"0 0 24 24\"\n",
              "       width=\"24px\">\n",
              "    <path d=\"M0 0h24v24H0V0z\" fill=\"none\"/>\n",
              "    <path d=\"M18.56 5.44l.94 2.06.94-2.06 2.06-.94-2.06-.94-.94-2.06-.94 2.06-2.06.94zm-11 1L8.5 8.5l.94-2.06 2.06-.94-2.06-.94L8.5 2.5l-.94 2.06-2.06.94zm10 10l.94 2.06.94-2.06 2.06-.94-2.06-.94-.94-2.06-.94 2.06-2.06.94z\"/><path d=\"M17.41 7.96l-1.37-1.37c-.4-.4-.92-.59-1.43-.59-.52 0-1.04.2-1.43.59L10.3 9.45l-7.72 7.72c-.78.78-.78 2.05 0 2.83L4 21.41c.39.39.9.59 1.41.59.51 0 1.02-.2 1.41-.59l7.78-7.78 2.81-2.81c.8-.78.8-2.07 0-2.86zM5.41 20L4 18.59l7.72-7.72 1.47 1.35L5.41 20z\"/>\n",
              "  </svg>\n",
              "      </button>\n",
              "      \n",
              "  <style>\n",
              "    .colab-df-container {\n",
              "      display:flex;\n",
              "      flex-wrap:wrap;\n",
              "      gap: 12px;\n",
              "    }\n",
              "\n",
              "    .colab-df-convert {\n",
              "      background-color: #E8F0FE;\n",
              "      border: none;\n",
              "      border-radius: 50%;\n",
              "      cursor: pointer;\n",
              "      display: none;\n",
              "      fill: #1967D2;\n",
              "      height: 32px;\n",
              "      padding: 0 0 0 0;\n",
              "      width: 32px;\n",
              "    }\n",
              "\n",
              "    .colab-df-convert:hover {\n",
              "      background-color: #E2EBFA;\n",
              "      box-shadow: 0px 1px 2px rgba(60, 64, 67, 0.3), 0px 1px 3px 1px rgba(60, 64, 67, 0.15);\n",
              "      fill: #174EA6;\n",
              "    }\n",
              "\n",
              "    [theme=dark] .colab-df-convert {\n",
              "      background-color: #3B4455;\n",
              "      fill: #D2E3FC;\n",
              "    }\n",
              "\n",
              "    [theme=dark] .colab-df-convert:hover {\n",
              "      background-color: #434B5C;\n",
              "      box-shadow: 0px 1px 3px 1px rgba(0, 0, 0, 0.15);\n",
              "      filter: drop-shadow(0px 1px 2px rgba(0, 0, 0, 0.3));\n",
              "      fill: #FFFFFF;\n",
              "    }\n",
              "  </style>\n",
              "\n",
              "      <script>\n",
              "        const buttonEl =\n",
              "          document.querySelector('#df-e388de02-acfe-46f4-a9e9-fb01d28758d0 button.colab-df-convert');\n",
              "        buttonEl.style.display =\n",
              "          google.colab.kernel.accessAllowed ? 'block' : 'none';\n",
              "\n",
              "        async function convertToInteractive(key) {\n",
              "          const element = document.querySelector('#df-e388de02-acfe-46f4-a9e9-fb01d28758d0');\n",
              "          const dataTable =\n",
              "            await google.colab.kernel.invokeFunction('convertToInteractive',\n",
              "                                                     [key], {});\n",
              "          if (!dataTable) return;\n",
              "\n",
              "          const docLinkHtml = 'Like what you see? Visit the ' +\n",
              "            '<a target=\"_blank\" href=https://colab.research.google.com/notebooks/data_table.ipynb>data table notebook</a>'\n",
              "            + ' to learn more about interactive tables.';\n",
              "          element.innerHTML = '';\n",
              "          dataTable['output_type'] = 'display_data';\n",
              "          await google.colab.output.renderOutput(dataTable, element);\n",
              "          const docLink = document.createElement('div');\n",
              "          docLink.innerHTML = docLinkHtml;\n",
              "          element.appendChild(docLink);\n",
              "        }\n",
              "      </script>\n",
              "    </div>\n",
              "  </div>\n",
              "  "
            ]
          },
          "metadata": {},
          "execution_count": 31
        }
      ]
    },
    {
      "cell_type": "code",
      "metadata": {
        "id": "EQKQbggVk6nf",
        "outputId": "5effcbbc-fc32-4d71-c937-1f5faf285a2f",
        "colab": {
          "base_uri": "https://localhost:8080/"
        }
      },
      "source": [
        "\n",
        "np.mean(preds==y_test)"
      ],
      "execution_count": 32,
      "outputs": [
        {
          "output_type": "execute_result",
          "data": {
            "text/plain": [
              "0.9666666666666667"
            ]
          },
          "metadata": {},
          "execution_count": 32
        }
      ]
    },
    {
      "cell_type": "markdown",
      "source": [
        "DECISION TREE REGRESSION"
      ],
      "metadata": {
        "id": "vdxs1UXTHa6T"
      }
    },
    {
      "cell_type": "code",
      "metadata": {
        "id": "GZhCGqoDk6ng"
      },
      "source": [
        "# Decision Tree Regression\n",
        "from sklearn.tree import DecisionTreeRegressor"
      ],
      "execution_count": 44,
      "outputs": []
    },
    {
      "cell_type": "code",
      "source": [
        "iris.values"
      ],
      "metadata": {
        "id": "2YcH4eEHKQLi",
        "colab": {
          "base_uri": "https://localhost:8080/"
        },
        "outputId": "03974f73-ac76-4b40-bf1e-8c563d0ae92d"
      },
      "execution_count": 45,
      "outputs": [
        {
          "output_type": "execute_result",
          "data": {
            "text/plain": [
              "array([[5.1, 3.5, 1.4, 0.2, 0. ],\n",
              "       [4.9, 3. , 1.4, 0.2, 0. ],\n",
              "       [4.7, 3.2, 1.3, 0.2, 0. ],\n",
              "       [4.6, 3.1, 1.5, 0.2, 0. ],\n",
              "       [5. , 3.6, 1.4, 0.2, 0. ],\n",
              "       [5.4, 3.9, 1.7, 0.4, 0. ],\n",
              "       [4.6, 3.4, 1.4, 0.3, 0. ],\n",
              "       [5. , 3.4, 1.5, 0.2, 0. ],\n",
              "       [4.4, 2.9, 1.4, 0.2, 0. ],\n",
              "       [4.9, 3.1, 1.5, 0.1, 0. ],\n",
              "       [5.4, 3.7, 1.5, 0.2, 0. ],\n",
              "       [4.8, 3.4, 1.6, 0.2, 0. ],\n",
              "       [4.8, 3. , 1.4, 0.1, 0. ],\n",
              "       [4.3, 3. , 1.1, 0.1, 0. ],\n",
              "       [5.8, 4. , 1.2, 0.2, 0. ],\n",
              "       [5.7, 4.4, 1.5, 0.4, 0. ],\n",
              "       [5.4, 3.9, 1.3, 0.4, 0. ],\n",
              "       [5.1, 3.5, 1.4, 0.3, 0. ],\n",
              "       [5.7, 3.8, 1.7, 0.3, 0. ],\n",
              "       [5.1, 3.8, 1.5, 0.3, 0. ],\n",
              "       [5.4, 3.4, 1.7, 0.2, 0. ],\n",
              "       [5.1, 3.7, 1.5, 0.4, 0. ],\n",
              "       [4.6, 3.6, 1. , 0.2, 0. ],\n",
              "       [5.1, 3.3, 1.7, 0.5, 0. ],\n",
              "       [4.8, 3.4, 1.9, 0.2, 0. ],\n",
              "       [5. , 3. , 1.6, 0.2, 0. ],\n",
              "       [5. , 3.4, 1.6, 0.4, 0. ],\n",
              "       [5.2, 3.5, 1.5, 0.2, 0. ],\n",
              "       [5.2, 3.4, 1.4, 0.2, 0. ],\n",
              "       [4.7, 3.2, 1.6, 0.2, 0. ],\n",
              "       [4.8, 3.1, 1.6, 0.2, 0. ],\n",
              "       [5.4, 3.4, 1.5, 0.4, 0. ],\n",
              "       [5.2, 4.1, 1.5, 0.1, 0. ],\n",
              "       [5.5, 4.2, 1.4, 0.2, 0. ],\n",
              "       [4.9, 3.1, 1.5, 0.1, 0. ],\n",
              "       [5. , 3.2, 1.2, 0.2, 0. ],\n",
              "       [5.5, 3.5, 1.3, 0.2, 0. ],\n",
              "       [4.9, 3.1, 1.5, 0.1, 0. ],\n",
              "       [4.4, 3. , 1.3, 0.2, 0. ],\n",
              "       [5.1, 3.4, 1.5, 0.2, 0. ],\n",
              "       [5. , 3.5, 1.3, 0.3, 0. ],\n",
              "       [4.5, 2.3, 1.3, 0.3, 0. ],\n",
              "       [4.4, 3.2, 1.3, 0.2, 0. ],\n",
              "       [5. , 3.5, 1.6, 0.6, 0. ],\n",
              "       [5.1, 3.8, 1.9, 0.4, 0. ],\n",
              "       [4.8, 3. , 1.4, 0.3, 0. ],\n",
              "       [5.1, 3.8, 1.6, 0.2, 0. ],\n",
              "       [4.6, 3.2, 1.4, 0.2, 0. ],\n",
              "       [5.3, 3.7, 1.5, 0.2, 0. ],\n",
              "       [5. , 3.3, 1.4, 0.2, 0. ],\n",
              "       [7. , 3.2, 4.7, 1.4, 1. ],\n",
              "       [6.4, 3.2, 4.5, 1.5, 1. ],\n",
              "       [6.9, 3.1, 4.9, 1.5, 1. ],\n",
              "       [5.5, 2.3, 4. , 1.3, 1. ],\n",
              "       [6.5, 2.8, 4.6, 1.5, 1. ],\n",
              "       [5.7, 2.8, 4.5, 1.3, 1. ],\n",
              "       [6.3, 3.3, 4.7, 1.6, 1. ],\n",
              "       [4.9, 2.4, 3.3, 1. , 1. ],\n",
              "       [6.6, 2.9, 4.6, 1.3, 1. ],\n",
              "       [5.2, 2.7, 3.9, 1.4, 1. ],\n",
              "       [5. , 2. , 3.5, 1. , 1. ],\n",
              "       [5.9, 3. , 4.2, 1.5, 1. ],\n",
              "       [6. , 2.2, 4. , 1. , 1. ],\n",
              "       [6.1, 2.9, 4.7, 1.4, 1. ],\n",
              "       [5.6, 2.9, 3.6, 1.3, 1. ],\n",
              "       [6.7, 3.1, 4.4, 1.4, 1. ],\n",
              "       [5.6, 3. , 4.5, 1.5, 1. ],\n",
              "       [5.8, 2.7, 4.1, 1. , 1. ],\n",
              "       [6.2, 2.2, 4.5, 1.5, 1. ],\n",
              "       [5.6, 2.5, 3.9, 1.1, 1. ],\n",
              "       [5.9, 3.2, 4.8, 1.8, 1. ],\n",
              "       [6.1, 2.8, 4. , 1.3, 1. ],\n",
              "       [6.3, 2.5, 4.9, 1.5, 1. ],\n",
              "       [6.1, 2.8, 4.7, 1.2, 1. ],\n",
              "       [6.4, 2.9, 4.3, 1.3, 1. ],\n",
              "       [6.6, 3. , 4.4, 1.4, 1. ],\n",
              "       [6.8, 2.8, 4.8, 1.4, 1. ],\n",
              "       [6.7, 3. , 5. , 1.7, 1. ],\n",
              "       [6. , 2.9, 4.5, 1.5, 1. ],\n",
              "       [5.7, 2.6, 3.5, 1. , 1. ],\n",
              "       [5.5, 2.4, 3.8, 1.1, 1. ],\n",
              "       [5.5, 2.4, 3.7, 1. , 1. ],\n",
              "       [5.8, 2.7, 3.9, 1.2, 1. ],\n",
              "       [6. , 2.7, 5.1, 1.6, 1. ],\n",
              "       [5.4, 3. , 4.5, 1.5, 1. ],\n",
              "       [6. , 3.4, 4.5, 1.6, 1. ],\n",
              "       [6.7, 3.1, 4.7, 1.5, 1. ],\n",
              "       [6.3, 2.3, 4.4, 1.3, 1. ],\n",
              "       [5.6, 3. , 4.1, 1.3, 1. ],\n",
              "       [5.5, 2.5, 4. , 1.3, 1. ],\n",
              "       [5.5, 2.6, 4.4, 1.2, 1. ],\n",
              "       [6.1, 3. , 4.6, 1.4, 1. ],\n",
              "       [5.8, 2.6, 4. , 1.2, 1. ],\n",
              "       [5. , 2.3, 3.3, 1. , 1. ],\n",
              "       [5.6, 2.7, 4.2, 1.3, 1. ],\n",
              "       [5.7, 3. , 4.2, 1.2, 1. ],\n",
              "       [5.7, 2.9, 4.2, 1.3, 1. ],\n",
              "       [6.2, 2.9, 4.3, 1.3, 1. ],\n",
              "       [5.1, 2.5, 3. , 1.1, 1. ],\n",
              "       [5.7, 2.8, 4.1, 1.3, 1. ],\n",
              "       [6.3, 3.3, 6. , 2.5, 2. ],\n",
              "       [5.8, 2.7, 5.1, 1.9, 2. ],\n",
              "       [7.1, 3. , 5.9, 2.1, 2. ],\n",
              "       [6.3, 2.9, 5.6, 1.8, 2. ],\n",
              "       [6.5, 3. , 5.8, 2.2, 2. ],\n",
              "       [7.6, 3. , 6.6, 2.1, 2. ],\n",
              "       [4.9, 2.5, 4.5, 1.7, 2. ],\n",
              "       [7.3, 2.9, 6.3, 1.8, 2. ],\n",
              "       [6.7, 2.5, 5.8, 1.8, 2. ],\n",
              "       [7.2, 3.6, 6.1, 2.5, 2. ],\n",
              "       [6.5, 3.2, 5.1, 2. , 2. ],\n",
              "       [6.4, 2.7, 5.3, 1.9, 2. ],\n",
              "       [6.8, 3. , 5.5, 2.1, 2. ],\n",
              "       [5.7, 2.5, 5. , 2. , 2. ],\n",
              "       [5.8, 2.8, 5.1, 2.4, 2. ],\n",
              "       [6.4, 3.2, 5.3, 2.3, 2. ],\n",
              "       [6.5, 3. , 5.5, 1.8, 2. ],\n",
              "       [7.7, 3.8, 6.7, 2.2, 2. ],\n",
              "       [7.7, 2.6, 6.9, 2.3, 2. ],\n",
              "       [6. , 2.2, 5. , 1.5, 2. ],\n",
              "       [6.9, 3.2, 5.7, 2.3, 2. ],\n",
              "       [5.6, 2.8, 4.9, 2. , 2. ],\n",
              "       [7.7, 2.8, 6.7, 2. , 2. ],\n",
              "       [6.3, 2.7, 4.9, 1.8, 2. ],\n",
              "       [6.7, 3.3, 5.7, 2.1, 2. ],\n",
              "       [7.2, 3.2, 6. , 1.8, 2. ],\n",
              "       [6.2, 2.8, 4.8, 1.8, 2. ],\n",
              "       [6.1, 3. , 4.9, 1.8, 2. ],\n",
              "       [6.4, 2.8, 5.6, 2.1, 2. ],\n",
              "       [7.2, 3. , 5.8, 1.6, 2. ],\n",
              "       [7.4, 2.8, 6.1, 1.9, 2. ],\n",
              "       [7.9, 3.8, 6.4, 2. , 2. ],\n",
              "       [6.4, 2.8, 5.6, 2.2, 2. ],\n",
              "       [6.3, 2.8, 5.1, 1.5, 2. ],\n",
              "       [6.1, 2.6, 5.6, 1.4, 2. ],\n",
              "       [7.7, 3. , 6.1, 2.3, 2. ],\n",
              "       [6.3, 3.4, 5.6, 2.4, 2. ],\n",
              "       [6.4, 3.1, 5.5, 1.8, 2. ],\n",
              "       [6. , 3. , 4.8, 1.8, 2. ],\n",
              "       [6.9, 3.1, 5.4, 2.1, 2. ],\n",
              "       [6.7, 3.1, 5.6, 2.4, 2. ],\n",
              "       [6.9, 3.1, 5.1, 2.3, 2. ],\n",
              "       [5.8, 2.7, 5.1, 1.9, 2. ],\n",
              "       [6.8, 3.2, 5.9, 2.3, 2. ],\n",
              "       [6.7, 3.3, 5.7, 2.5, 2. ],\n",
              "       [6.7, 3. , 5.2, 2.3, 2. ],\n",
              "       [6.3, 2.5, 5. , 1.9, 2. ],\n",
              "       [6.5, 3. , 5.2, 2. , 2. ],\n",
              "       [6.2, 3.4, 5.4, 2.3, 2. ],\n",
              "       [5.9, 3. , 5.1, 1.8, 2. ]])"
            ]
          },
          "metadata": {},
          "execution_count": 45
        }
      ]
    },
    {
      "cell_type": "code",
      "metadata": {
        "id": "Nu8JxuL9k6ng"
      },
      "source": [
        "array = iris.values\n",
        "x = array[:,0:3]\n",
        "y = array[:,3]"
      ],
      "execution_count": 46,
      "outputs": []
    },
    {
      "cell_type": "code",
      "source": [
        "x"
      ],
      "metadata": {
        "id": "exeAUbfQKGOZ",
        "colab": {
          "base_uri": "https://localhost:8080/"
        },
        "outputId": "974038ed-c7dd-41cf-ef2e-b52ac8ebc13c"
      },
      "execution_count": 47,
      "outputs": [
        {
          "output_type": "execute_result",
          "data": {
            "text/plain": [
              "array([[5.1, 3.5, 1.4],\n",
              "       [4.9, 3. , 1.4],\n",
              "       [4.7, 3.2, 1.3],\n",
              "       [4.6, 3.1, 1.5],\n",
              "       [5. , 3.6, 1.4],\n",
              "       [5.4, 3.9, 1.7],\n",
              "       [4.6, 3.4, 1.4],\n",
              "       [5. , 3.4, 1.5],\n",
              "       [4.4, 2.9, 1.4],\n",
              "       [4.9, 3.1, 1.5],\n",
              "       [5.4, 3.7, 1.5],\n",
              "       [4.8, 3.4, 1.6],\n",
              "       [4.8, 3. , 1.4],\n",
              "       [4.3, 3. , 1.1],\n",
              "       [5.8, 4. , 1.2],\n",
              "       [5.7, 4.4, 1.5],\n",
              "       [5.4, 3.9, 1.3],\n",
              "       [5.1, 3.5, 1.4],\n",
              "       [5.7, 3.8, 1.7],\n",
              "       [5.1, 3.8, 1.5],\n",
              "       [5.4, 3.4, 1.7],\n",
              "       [5.1, 3.7, 1.5],\n",
              "       [4.6, 3.6, 1. ],\n",
              "       [5.1, 3.3, 1.7],\n",
              "       [4.8, 3.4, 1.9],\n",
              "       [5. , 3. , 1.6],\n",
              "       [5. , 3.4, 1.6],\n",
              "       [5.2, 3.5, 1.5],\n",
              "       [5.2, 3.4, 1.4],\n",
              "       [4.7, 3.2, 1.6],\n",
              "       [4.8, 3.1, 1.6],\n",
              "       [5.4, 3.4, 1.5],\n",
              "       [5.2, 4.1, 1.5],\n",
              "       [5.5, 4.2, 1.4],\n",
              "       [4.9, 3.1, 1.5],\n",
              "       [5. , 3.2, 1.2],\n",
              "       [5.5, 3.5, 1.3],\n",
              "       [4.9, 3.1, 1.5],\n",
              "       [4.4, 3. , 1.3],\n",
              "       [5.1, 3.4, 1.5],\n",
              "       [5. , 3.5, 1.3],\n",
              "       [4.5, 2.3, 1.3],\n",
              "       [4.4, 3.2, 1.3],\n",
              "       [5. , 3.5, 1.6],\n",
              "       [5.1, 3.8, 1.9],\n",
              "       [4.8, 3. , 1.4],\n",
              "       [5.1, 3.8, 1.6],\n",
              "       [4.6, 3.2, 1.4],\n",
              "       [5.3, 3.7, 1.5],\n",
              "       [5. , 3.3, 1.4],\n",
              "       [7. , 3.2, 4.7],\n",
              "       [6.4, 3.2, 4.5],\n",
              "       [6.9, 3.1, 4.9],\n",
              "       [5.5, 2.3, 4. ],\n",
              "       [6.5, 2.8, 4.6],\n",
              "       [5.7, 2.8, 4.5],\n",
              "       [6.3, 3.3, 4.7],\n",
              "       [4.9, 2.4, 3.3],\n",
              "       [6.6, 2.9, 4.6],\n",
              "       [5.2, 2.7, 3.9],\n",
              "       [5. , 2. , 3.5],\n",
              "       [5.9, 3. , 4.2],\n",
              "       [6. , 2.2, 4. ],\n",
              "       [6.1, 2.9, 4.7],\n",
              "       [5.6, 2.9, 3.6],\n",
              "       [6.7, 3.1, 4.4],\n",
              "       [5.6, 3. , 4.5],\n",
              "       [5.8, 2.7, 4.1],\n",
              "       [6.2, 2.2, 4.5],\n",
              "       [5.6, 2.5, 3.9],\n",
              "       [5.9, 3.2, 4.8],\n",
              "       [6.1, 2.8, 4. ],\n",
              "       [6.3, 2.5, 4.9],\n",
              "       [6.1, 2.8, 4.7],\n",
              "       [6.4, 2.9, 4.3],\n",
              "       [6.6, 3. , 4.4],\n",
              "       [6.8, 2.8, 4.8],\n",
              "       [6.7, 3. , 5. ],\n",
              "       [6. , 2.9, 4.5],\n",
              "       [5.7, 2.6, 3.5],\n",
              "       [5.5, 2.4, 3.8],\n",
              "       [5.5, 2.4, 3.7],\n",
              "       [5.8, 2.7, 3.9],\n",
              "       [6. , 2.7, 5.1],\n",
              "       [5.4, 3. , 4.5],\n",
              "       [6. , 3.4, 4.5],\n",
              "       [6.7, 3.1, 4.7],\n",
              "       [6.3, 2.3, 4.4],\n",
              "       [5.6, 3. , 4.1],\n",
              "       [5.5, 2.5, 4. ],\n",
              "       [5.5, 2.6, 4.4],\n",
              "       [6.1, 3. , 4.6],\n",
              "       [5.8, 2.6, 4. ],\n",
              "       [5. , 2.3, 3.3],\n",
              "       [5.6, 2.7, 4.2],\n",
              "       [5.7, 3. , 4.2],\n",
              "       [5.7, 2.9, 4.2],\n",
              "       [6.2, 2.9, 4.3],\n",
              "       [5.1, 2.5, 3. ],\n",
              "       [5.7, 2.8, 4.1],\n",
              "       [6.3, 3.3, 6. ],\n",
              "       [5.8, 2.7, 5.1],\n",
              "       [7.1, 3. , 5.9],\n",
              "       [6.3, 2.9, 5.6],\n",
              "       [6.5, 3. , 5.8],\n",
              "       [7.6, 3. , 6.6],\n",
              "       [4.9, 2.5, 4.5],\n",
              "       [7.3, 2.9, 6.3],\n",
              "       [6.7, 2.5, 5.8],\n",
              "       [7.2, 3.6, 6.1],\n",
              "       [6.5, 3.2, 5.1],\n",
              "       [6.4, 2.7, 5.3],\n",
              "       [6.8, 3. , 5.5],\n",
              "       [5.7, 2.5, 5. ],\n",
              "       [5.8, 2.8, 5.1],\n",
              "       [6.4, 3.2, 5.3],\n",
              "       [6.5, 3. , 5.5],\n",
              "       [7.7, 3.8, 6.7],\n",
              "       [7.7, 2.6, 6.9],\n",
              "       [6. , 2.2, 5. ],\n",
              "       [6.9, 3.2, 5.7],\n",
              "       [5.6, 2.8, 4.9],\n",
              "       [7.7, 2.8, 6.7],\n",
              "       [6.3, 2.7, 4.9],\n",
              "       [6.7, 3.3, 5.7],\n",
              "       [7.2, 3.2, 6. ],\n",
              "       [6.2, 2.8, 4.8],\n",
              "       [6.1, 3. , 4.9],\n",
              "       [6.4, 2.8, 5.6],\n",
              "       [7.2, 3. , 5.8],\n",
              "       [7.4, 2.8, 6.1],\n",
              "       [7.9, 3.8, 6.4],\n",
              "       [6.4, 2.8, 5.6],\n",
              "       [6.3, 2.8, 5.1],\n",
              "       [6.1, 2.6, 5.6],\n",
              "       [7.7, 3. , 6.1],\n",
              "       [6.3, 3.4, 5.6],\n",
              "       [6.4, 3.1, 5.5],\n",
              "       [6. , 3. , 4.8],\n",
              "       [6.9, 3.1, 5.4],\n",
              "       [6.7, 3.1, 5.6],\n",
              "       [6.9, 3.1, 5.1],\n",
              "       [5.8, 2.7, 5.1],\n",
              "       [6.8, 3.2, 5.9],\n",
              "       [6.7, 3.3, 5.7],\n",
              "       [6.7, 3. , 5.2],\n",
              "       [6.3, 2.5, 5. ],\n",
              "       [6.5, 3. , 5.2],\n",
              "       [6.2, 3.4, 5.4],\n",
              "       [5.9, 3. , 5.1]])"
            ]
          },
          "metadata": {},
          "execution_count": 47
        }
      ]
    },
    {
      "cell_type": "code",
      "source": [
        "y"
      ],
      "metadata": {
        "id": "twF4ePd-KH3U",
        "colab": {
          "base_uri": "https://localhost:8080/"
        },
        "outputId": "77e03f2d-6cad-4931-c55c-8dbd723f3d22"
      },
      "execution_count": 48,
      "outputs": [
        {
          "output_type": "execute_result",
          "data": {
            "text/plain": [
              "array([0.2, 0.2, 0.2, 0.2, 0.2, 0.4, 0.3, 0.2, 0.2, 0.1, 0.2, 0.2, 0.1,\n",
              "       0.1, 0.2, 0.4, 0.4, 0.3, 0.3, 0.3, 0.2, 0.4, 0.2, 0.5, 0.2, 0.2,\n",
              "       0.4, 0.2, 0.2, 0.2, 0.2, 0.4, 0.1, 0.2, 0.1, 0.2, 0.2, 0.1, 0.2,\n",
              "       0.2, 0.3, 0.3, 0.2, 0.6, 0.4, 0.3, 0.2, 0.2, 0.2, 0.2, 1.4, 1.5,\n",
              "       1.5, 1.3, 1.5, 1.3, 1.6, 1. , 1.3, 1.4, 1. , 1.5, 1. , 1.4, 1.3,\n",
              "       1.4, 1.5, 1. , 1.5, 1.1, 1.8, 1.3, 1.5, 1.2, 1.3, 1.4, 1.4, 1.7,\n",
              "       1.5, 1. , 1.1, 1. , 1.2, 1.6, 1.5, 1.6, 1.5, 1.3, 1.3, 1.3, 1.2,\n",
              "       1.4, 1.2, 1. , 1.3, 1.2, 1.3, 1.3, 1.1, 1.3, 2.5, 1.9, 2.1, 1.8,\n",
              "       2.2, 2.1, 1.7, 1.8, 1.8, 2.5, 2. , 1.9, 2.1, 2. , 2.4, 2.3, 1.8,\n",
              "       2.2, 2.3, 1.5, 2.3, 2. , 2. , 1.8, 2.1, 1.8, 1.8, 1.8, 2.1, 1.6,\n",
              "       1.9, 2. , 2.2, 1.5, 1.4, 2.3, 2.4, 1.8, 1.8, 2.1, 2.4, 2.3, 1.9,\n",
              "       2.3, 2.5, 2.3, 1.9, 2. , 2.3, 1.8])"
            ]
          },
          "metadata": {},
          "execution_count": 48
        }
      ]
    },
    {
      "cell_type": "code",
      "metadata": {
        "id": "7blNIDBek6ng"
      },
      "source": [
        "x_train, x_test, y_train, y_test = train_test_split(x, y, test_size=0.33, random_state=1)"
      ],
      "execution_count": 52,
      "outputs": []
    },
    {
      "cell_type": "code",
      "metadata": {
        "id": "0D1VrCN9k6nh",
        "colab": {
          "base_uri": "https://localhost:8080/"
        },
        "outputId": "3e1d299b-2fd3-45fa-b372-7b37f9f74de6"
      },
      "source": [
        "model = DecisionTreeRegressor()\n",
        "model.fit(x_train, y_train)"
      ],
      "execution_count": 53,
      "outputs": [
        {
          "output_type": "execute_result",
          "data": {
            "text/plain": [
              "DecisionTreeRegressor()"
            ]
          },
          "metadata": {},
          "execution_count": 53
        }
      ]
    },
    {
      "cell_type": "code",
      "source": [
        "#ACCURACY\n",
        "model.score(x_test,y_test)"
      ],
      "metadata": {
        "colab": {
          "base_uri": "https://localhost:8080/"
        },
        "id": "0fRLjKG2HR7o",
        "outputId": "bd72faed-fb6d-4944-a895-cd72d1c2708f"
      },
      "execution_count": 54,
      "outputs": [
        {
          "output_type": "execute_result",
          "data": {
            "text/plain": [
              "0.8559250810421419"
            ]
          },
          "metadata": {},
          "execution_count": 54
        }
      ]
    }
  ],
  "metadata": {
    "colab": {
      "collapsed_sections": [],
      "name": "decision_tree_22_08_2222.ipynb",
      "provenance": []
    },
    "kernelspec": {
      "display_name": "Python 3",
      "name": "python3"
    },
    "language_info": {
      "name": "python"
    }
  },
  "nbformat": 4,
  "nbformat_minor": 0
}